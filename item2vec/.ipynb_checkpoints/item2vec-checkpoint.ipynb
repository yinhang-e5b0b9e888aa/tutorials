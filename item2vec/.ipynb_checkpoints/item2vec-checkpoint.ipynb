{
 "cells": [
  {
   "cell_type": "markdown",
   "metadata": {},
   "source": [
    "# 论文资料\n",
    "\n",
    "论文地址: [Item2Vec: Neural Item Embedding for Collaborative Filtering](https://arxiv.org/abs/1603.04259)\n",
    "\n",
    "社区tensorflow实现代码地址: https://github.com/ctjoy/item2vec\n",
    "\n",
    "社区fastText实现代码地址: https://github.com/lujiaying/MovieTaster-Open"
   ]
  },
  {
   "cell_type": "markdown",
   "metadata": {},
   "source": [
    "# 需要解决的问题\n",
    "\n",
    "协同过滤中，计算物品的相似度"
   ]
  },
  {
   "cell_type": "markdown",
   "metadata": {},
   "source": [
    "# 方法\n",
    "\n",
    "## 核心思想\n",
    "\n",
    "把物品看做词语，例如物品ID，通过word2vec的方法，得到物品的向量，用于推荐\n",
    "\n",
    "## 实现思路\n",
    "\n",
    "在同一个集合中的每个二元对都看作正样本。例如同一个订单中的两个商品，同一个用户喜欢的两首歌。"
   ]
  },
  {
   "cell_type": "code",
   "execution_count": null,
   "metadata": {},
   "outputs": [],
   "source": []
  }
 ],
 "metadata": {
  "kernelspec": {
   "display_name": "Python 3",
   "language": "python",
   "name": "python3"
  },
  "language_info": {
   "codemirror_mode": {
    "name": "ipython",
    "version": 3
   },
   "file_extension": ".py",
   "mimetype": "text/x-python",
   "name": "python",
   "nbconvert_exporter": "python",
   "pygments_lexer": "ipython3",
   "version": "3.6.8"
  },
  "toc": {
   "base_numbering": 1,
   "nav_menu": {},
   "number_sections": false,
   "sideBar": true,
   "skip_h1_title": false,
   "title_cell": "Table of Contents",
   "title_sidebar": "Contents",
   "toc_cell": false,
   "toc_position": {},
   "toc_section_display": true,
   "toc_window_display": false
  }
 },
 "nbformat": 4,
 "nbformat_minor": 2
}
